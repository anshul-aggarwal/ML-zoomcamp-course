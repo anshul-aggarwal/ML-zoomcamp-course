{
 "cells": [
  {
   "cell_type": "code",
   "execution_count": 1,
   "metadata": {},
   "outputs": [],
   "source": [
    "import numpy as np\n",
    "import pandas as pd\n",
    "from datetime import date\n",
    "\n",
    "import seaborn\n",
    "from matplotlib import pyplot as plt\n",
    "%matplotlib inline"
   ]
  },
  {
   "cell_type": "code",
   "execution_count": 2,
   "metadata": {},
   "outputs": [
    {
     "data": {
      "text/html": [
       "<div>\n",
       "<style scoped>\n",
       "    .dataframe tbody tr th:only-of-type {\n",
       "        vertical-align: middle;\n",
       "    }\n",
       "\n",
       "    .dataframe tbody tr th {\n",
       "        vertical-align: top;\n",
       "    }\n",
       "\n",
       "    .dataframe thead th {\n",
       "        text-align: right;\n",
       "    }\n",
       "</style>\n",
       "<table border=\"1\" class=\"dataframe\">\n",
       "  <thead>\n",
       "    <tr style=\"text-align: right;\">\n",
       "      <th></th>\n",
       "      <th>id</th>\n",
       "      <th>name</th>\n",
       "      <th>host_id</th>\n",
       "      <th>host_name</th>\n",
       "      <th>neighbourhood_group</th>\n",
       "      <th>neighbourhood</th>\n",
       "      <th>latitude</th>\n",
       "      <th>longitude</th>\n",
       "      <th>room_type</th>\n",
       "      <th>price</th>\n",
       "      <th>minimum_nights</th>\n",
       "      <th>number_of_reviews</th>\n",
       "      <th>last_review</th>\n",
       "      <th>reviews_per_month</th>\n",
       "      <th>calculated_host_listings_count</th>\n",
       "      <th>availability_365</th>\n",
       "    </tr>\n",
       "  </thead>\n",
       "  <tbody>\n",
       "    <tr>\n",
       "      <th>0</th>\n",
       "      <td>2539</td>\n",
       "      <td>Clean &amp; quiet apt home by the park</td>\n",
       "      <td>2787</td>\n",
       "      <td>John</td>\n",
       "      <td>Brooklyn</td>\n",
       "      <td>Kensington</td>\n",
       "      <td>40.64749</td>\n",
       "      <td>-73.97237</td>\n",
       "      <td>Private room</td>\n",
       "      <td>149</td>\n",
       "      <td>1</td>\n",
       "      <td>9</td>\n",
       "      <td>2018-10-19</td>\n",
       "      <td>0.21</td>\n",
       "      <td>6</td>\n",
       "      <td>365</td>\n",
       "    </tr>\n",
       "    <tr>\n",
       "      <th>1</th>\n",
       "      <td>2595</td>\n",
       "      <td>Skylit Midtown Castle</td>\n",
       "      <td>2845</td>\n",
       "      <td>Jennifer</td>\n",
       "      <td>Manhattan</td>\n",
       "      <td>Midtown</td>\n",
       "      <td>40.75362</td>\n",
       "      <td>-73.98377</td>\n",
       "      <td>Entire home/apt</td>\n",
       "      <td>225</td>\n",
       "      <td>1</td>\n",
       "      <td>45</td>\n",
       "      <td>2019-05-21</td>\n",
       "      <td>0.38</td>\n",
       "      <td>2</td>\n",
       "      <td>355</td>\n",
       "    </tr>\n",
       "    <tr>\n",
       "      <th>2</th>\n",
       "      <td>3647</td>\n",
       "      <td>THE VILLAGE OF HARLEM....NEW YORK !</td>\n",
       "      <td>4632</td>\n",
       "      <td>Elisabeth</td>\n",
       "      <td>Manhattan</td>\n",
       "      <td>Harlem</td>\n",
       "      <td>40.80902</td>\n",
       "      <td>-73.94190</td>\n",
       "      <td>Private room</td>\n",
       "      <td>150</td>\n",
       "      <td>3</td>\n",
       "      <td>0</td>\n",
       "      <td>NaN</td>\n",
       "      <td>NaN</td>\n",
       "      <td>1</td>\n",
       "      <td>365</td>\n",
       "    </tr>\n",
       "    <tr>\n",
       "      <th>3</th>\n",
       "      <td>3831</td>\n",
       "      <td>Cozy Entire Floor of Brownstone</td>\n",
       "      <td>4869</td>\n",
       "      <td>LisaRoxanne</td>\n",
       "      <td>Brooklyn</td>\n",
       "      <td>Clinton Hill</td>\n",
       "      <td>40.68514</td>\n",
       "      <td>-73.95976</td>\n",
       "      <td>Entire home/apt</td>\n",
       "      <td>89</td>\n",
       "      <td>1</td>\n",
       "      <td>270</td>\n",
       "      <td>2019-07-05</td>\n",
       "      <td>4.64</td>\n",
       "      <td>1</td>\n",
       "      <td>194</td>\n",
       "    </tr>\n",
       "    <tr>\n",
       "      <th>4</th>\n",
       "      <td>5022</td>\n",
       "      <td>Entire Apt: Spacious Studio/Loft by central park</td>\n",
       "      <td>7192</td>\n",
       "      <td>Laura</td>\n",
       "      <td>Manhattan</td>\n",
       "      <td>East Harlem</td>\n",
       "      <td>40.79851</td>\n",
       "      <td>-73.94399</td>\n",
       "      <td>Entire home/apt</td>\n",
       "      <td>80</td>\n",
       "      <td>10</td>\n",
       "      <td>9</td>\n",
       "      <td>2018-11-19</td>\n",
       "      <td>0.10</td>\n",
       "      <td>1</td>\n",
       "      <td>0</td>\n",
       "    </tr>\n",
       "  </tbody>\n",
       "</table>\n",
       "</div>"
      ],
      "text/plain": [
       "     id                                              name  host_id  \\\n",
       "0  2539                Clean & quiet apt home by the park     2787   \n",
       "1  2595                             Skylit Midtown Castle     2845   \n",
       "2  3647               THE VILLAGE OF HARLEM....NEW YORK !     4632   \n",
       "3  3831                   Cozy Entire Floor of Brownstone     4869   \n",
       "4  5022  Entire Apt: Spacious Studio/Loft by central park     7192   \n",
       "\n",
       "     host_name neighbourhood_group neighbourhood  latitude  longitude  \\\n",
       "0         John            Brooklyn    Kensington  40.64749  -73.97237   \n",
       "1     Jennifer           Manhattan       Midtown  40.75362  -73.98377   \n",
       "2    Elisabeth           Manhattan        Harlem  40.80902  -73.94190   \n",
       "3  LisaRoxanne            Brooklyn  Clinton Hill  40.68514  -73.95976   \n",
       "4        Laura           Manhattan   East Harlem  40.79851  -73.94399   \n",
       "\n",
       "         room_type  price  minimum_nights  number_of_reviews last_review  \\\n",
       "0     Private room    149               1                  9  2018-10-19   \n",
       "1  Entire home/apt    225               1                 45  2019-05-21   \n",
       "2     Private room    150               3                  0         NaN   \n",
       "3  Entire home/apt     89               1                270  2019-07-05   \n",
       "4  Entire home/apt     80              10                  9  2018-11-19   \n",
       "\n",
       "   reviews_per_month  calculated_host_listings_count  availability_365  \n",
       "0               0.21                               6               365  \n",
       "1               0.38                               2               355  \n",
       "2                NaN                               1               365  \n",
       "3               4.64                               1               194  \n",
       "4               0.10                               1                 0  "
      ]
     },
     "execution_count": 2,
     "metadata": {},
     "output_type": "execute_result"
    }
   ],
   "source": [
    "df = pd.read_csv('AB_NYC_2019.csv')\n",
    "df.head()"
   ]
  },
  {
   "cell_type": "code",
   "execution_count": 3,
   "metadata": {},
   "outputs": [
    {
     "data": {
      "text/plain": [
       "48895"
      ]
     },
     "execution_count": 3,
     "metadata": {},
     "output_type": "execute_result"
    }
   ],
   "source": [
    "len(df)"
   ]
  },
  {
   "cell_type": "markdown",
   "metadata": {},
   "source": [
    "Price analysis"
   ]
  },
  {
   "cell_type": "code",
   "execution_count": 4,
   "metadata": {},
   "outputs": [
    {
     "data": {
      "image/png": "[encoded data removed]",
      "text/plain": [
       "<Figure size 576x288 with 1 Axes>"
      ]
     },
     "metadata": {
      "needs_background": "light"
     },
     "output_type": "display_data"
    }
   ],
   "source": [
    "plt.figure(figsize=(8,4))\n",
    "\n",
    "seaborn.histplot(df.price, bins=40, color=\"red\")\n",
    "plt.ylabel(\"Frequency\")\n",
    "plt.xlabel(\"Price\")\n",
    "plt.title(\"Distribution of Prices\")\n",
    "\n",
    "plt.show()"
   ]
  },
  {
   "cell_type": "markdown",
   "metadata": {},
   "source": [
    "A long tail."
   ]
  },
  {
   "cell_type": "code",
   "execution_count": 5,
   "metadata": {},
   "outputs": [
    {
     "data": {
      "image/png": "[encoded data removed]",
      "text/plain": [
       "<Figure size 576x288 with 1 Axes>"
      ]
     },
     "metadata": {
      "needs_background": "light"
     },
     "output_type": "display_data"
    }
   ],
   "source": [
    "plt.figure(figsize=(8,4))\n",
    "\n",
    "seaborn.histplot(np.log1p(df.price), bins=40, color=\"red\")\n",
    "plt.ylabel(\"Frequency\")\n",
    "plt.xlabel(\"log(1 + Price)\")\n",
    "plt.title(\"Distribution of Prices\")\n",
    "\n",
    "plt.show()"
   ]
  },
  {
   "cell_type": "code",
   "execution_count": 6,
   "metadata": {},
   "outputs": [
    {
     "data": {
      "text/html": [
       "<div>\n",
       "<style scoped>\n",
       "    .dataframe tbody tr th:only-of-type {\n",
       "        vertical-align: middle;\n",
       "    }\n",
       "\n",
       "    .dataframe tbody tr th {\n",
       "        vertical-align: top;\n",
       "    }\n",
       "\n",
       "    .dataframe thead th {\n",
       "        text-align: right;\n",
       "    }\n",
       "</style>\n",
       "<table border=\"1\" class=\"dataframe\">\n",
       "  <thead>\n",
       "    <tr style=\"text-align: right;\">\n",
       "      <th></th>\n",
       "      <th>latitude</th>\n",
       "      <th>longitude</th>\n",
       "      <th>minimum_nights</th>\n",
       "      <th>number_of_reviews</th>\n",
       "      <th>reviews_per_month</th>\n",
       "      <th>calculated_host_listings_count</th>\n",
       "      <th>availability_365</th>\n",
       "      <th>price</th>\n",
       "    </tr>\n",
       "  </thead>\n",
       "  <tbody>\n",
       "    <tr>\n",
       "      <th>0</th>\n",
       "      <td>40.64749</td>\n",
       "      <td>-73.97237</td>\n",
       "      <td>1</td>\n",
       "      <td>9</td>\n",
       "      <td>0.21</td>\n",
       "      <td>6</td>\n",
       "      <td>365</td>\n",
       "      <td>149</td>\n",
       "    </tr>\n",
       "    <tr>\n",
       "      <th>1</th>\n",
       "      <td>40.75362</td>\n",
       "      <td>-73.98377</td>\n",
       "      <td>1</td>\n",
       "      <td>45</td>\n",
       "      <td>0.38</td>\n",
       "      <td>2</td>\n",
       "      <td>355</td>\n",
       "      <td>225</td>\n",
       "    </tr>\n",
       "    <tr>\n",
       "      <th>2</th>\n",
       "      <td>40.80902</td>\n",
       "      <td>-73.94190</td>\n",
       "      <td>3</td>\n",
       "      <td>0</td>\n",
       "      <td>NaN</td>\n",
       "      <td>1</td>\n",
       "      <td>365</td>\n",
       "      <td>150</td>\n",
       "    </tr>\n",
       "    <tr>\n",
       "      <th>3</th>\n",
       "      <td>40.68514</td>\n",
       "      <td>-73.95976</td>\n",
       "      <td>1</td>\n",
       "      <td>270</td>\n",
       "      <td>4.64</td>\n",
       "      <td>1</td>\n",
       "      <td>194</td>\n",
       "      <td>89</td>\n",
       "    </tr>\n",
       "    <tr>\n",
       "      <th>4</th>\n",
       "      <td>40.79851</td>\n",
       "      <td>-73.94399</td>\n",
       "      <td>10</td>\n",
       "      <td>9</td>\n",
       "      <td>0.10</td>\n",
       "      <td>1</td>\n",
       "      <td>0</td>\n",
       "      <td>80</td>\n",
       "    </tr>\n",
       "  </tbody>\n",
       "</table>\n",
       "</div>"
      ],
      "text/plain": [
       "   latitude  longitude  minimum_nights  number_of_reviews  reviews_per_month  \\\n",
       "0  40.64749  -73.97237               1                  9               0.21   \n",
       "1  40.75362  -73.98377               1                 45               0.38   \n",
       "2  40.80902  -73.94190               3                  0                NaN   \n",
       "3  40.68514  -73.95976               1                270               4.64   \n",
       "4  40.79851  -73.94399              10                  9               0.10   \n",
       "\n",
       "   calculated_host_listings_count  availability_365  price  \n",
       "0                               6               365    149  \n",
       "1                               2               355    225  \n",
       "2                               1               365    150  \n",
       "3                               1               194     89  \n",
       "4                               1                 0     80  "
      ]
     },
     "execution_count": 6,
     "metadata": {},
     "output_type": "execute_result"
    }
   ],
   "source": [
    "base = ['latitude', 'longitude', 'minimum_nights', \n",
    "        'number_of_reviews', 'reviews_per_month', \n",
    "        'calculated_host_listings_count', 'availability_365']\n",
    "\n",
    "selected_cols = base + ['price']\n",
    "\n",
    "df = df[selected_cols]\n",
    "df.head()"
   ]
  },
  {
   "cell_type": "markdown",
   "metadata": {},
   "source": [
    "# Question 1"
   ]
  },
  {
   "cell_type": "code",
   "execution_count": 7,
   "metadata": {
    "scrolled": true
   },
   "outputs": [
    {
     "data": {
      "text/plain": [
       "latitude                              0\n",
       "longitude                             0\n",
       "minimum_nights                        0\n",
       "number_of_reviews                     0\n",
       "reviews_per_month                 10052\n",
       "calculated_host_listings_count        0\n",
       "availability_365                      0\n",
       "price                                 0\n",
       "dtype: int64"
      ]
     },
     "execution_count": 7,
     "metadata": {},
     "output_type": "execute_result"
    }
   ],
   "source": [
    "df.isnull().sum()"
   ]
  },
  {
   "cell_type": "code",
   "execution_count": 8,
   "metadata": {},
   "outputs": [
    {
     "data": {
      "text/plain": [
       "10052"
      ]
     },
     "execution_count": 8,
     "metadata": {},
     "output_type": "execute_result"
    }
   ],
   "source": [
    "len(df[df['number_of_reviews']==0])"
   ]
  },
  {
   "cell_type": "markdown",
   "metadata": {},
   "source": [
    "Wherever the number of reviews is 0, the feature reviews per month becomes NaN."
   ]
  },
  {
   "cell_type": "markdown",
   "metadata": {},
   "source": [
    "# Question 2"
   ]
  },
  {
   "cell_type": "code",
   "execution_count": 9,
   "metadata": {},
   "outputs": [
    {
     "data": {
      "text/plain": [
       "3.0"
      ]
     },
     "execution_count": 9,
     "metadata": {},
     "output_type": "execute_result"
    }
   ],
   "source": [
    "df.minimum_nights.median()"
   ]
  },
  {
   "cell_type": "markdown",
   "metadata": {},
   "source": [
    "# Question 3"
   ]
  },
  {
   "cell_type": "code",
   "execution_count": 10,
   "metadata": {},
   "outputs": [
    {
     "name": "stdout",
     "output_type": "stream",
     "text": [
      "42\n"
     ]
    }
   ],
   "source": [
    "np.random.seed(42)\n",
    "print(np.random.get_state()[1][0])"
   ]
  },
  {
   "cell_type": "code",
   "execution_count": 11,
   "metadata": {},
   "outputs": [
    {
     "data": {
      "text/plain": [
       "array([  879, 44383, 15394, ..., 38158,   860, 15795])"
      ]
     },
     "execution_count": 11,
     "metadata": {},
     "output_type": "execute_result"
    }
   ],
   "source": [
    "n = len(df)\n",
    "\n",
    "#Split in sets - 60-20-20\n",
    "n_validation = int(0.2*n)\n",
    "n_test = int(0.2*n)\n",
    "n_train = n - (n_validation + n_test)\n",
    "\n",
    "idx = np.arange(n)\n",
    "np.random.shuffle(idx)\n",
    "idx"
   ]
  },
  {
   "cell_type": "code",
   "execution_count": 12,
   "metadata": {},
   "outputs": [],
   "source": [
    "df_shuffled = df.iloc[idx]\n",
    "\n",
    "df_train = df_shuffled.iloc[:n_train].copy()\n",
    "df_test = df_shuffled.iloc[n_train:n_train+n_test].copy()\n",
    "df_validation = df_shuffled.iloc[n_train+n_test:].copy()\n",
    "\n",
    "y_train_orig = df_train.price.values\n",
    "y_validation_orig = df_validation.price.values\n",
    "y_test_orig = df_test.price.values\n",
    "\n",
    "y_train = np.log1p(df_train.price.values)\n",
    "y_validation = np.log1p(df_validation.price.values)\n",
    "y_test = np.log1p(df_test.price.values)\n",
    "\n",
    "del df_train['price']\n",
    "del df_validation['price']\n",
    "del df_test['price']"
   ]
  },
  {
   "cell_type": "code",
   "execution_count": 13,
   "metadata": {},
   "outputs": [],
   "source": [
    "def train_linear_regression_reg(X, y, r=0.0):\n",
    "    ones = np.ones(X.shape[0])\n",
    "    X = np.column_stack([ones, X])\n",
    "\n",
    "    XTX = X.T.dot(X)\n",
    "    reg = r * np.eye(XTX.shape[0])\n",
    "    XTX = XTX + reg\n",
    "\n",
    "    XTX_inv = np.linalg.inv(XTX)\n",
    "    w = XTX_inv.dot(X.T).dot(y)\n",
    "    \n",
    "    return w[0], w[1:]"
   ]
  },
  {
   "cell_type": "code",
   "execution_count": 14,
   "metadata": {},
   "outputs": [],
   "source": [
    "def prepare_X(df, base):\n",
    "    df_num = df[base]\n",
    "    X = df_num.values\n",
    "    return X"
   ]
  },
  {
   "cell_type": "code",
   "execution_count": 15,
   "metadata": {},
   "outputs": [],
   "source": [
    "def rmse(y, y_pred):\n",
    "    error = y_pred - y\n",
    "    mse = (error ** 2).mean()\n",
    "    return np.sqrt(mse)"
   ]
  },
  {
   "cell_type": "markdown",
   "metadata": {},
   "source": [
    "### Using 0-fill for reviews per month"
   ]
  },
  {
   "cell_type": "code",
   "execution_count": 16,
   "metadata": {},
   "outputs": [],
   "source": [
    "df_train_copy = df_train.copy()\n",
    "df_validation_copy = df_validation.copy()\n",
    "\n",
    "df_train_copy['reviews_per_month'] = df_train_copy['reviews_per_month'].fillna(0)\n",
    "df_validation_copy['reviews_per_month'] = df_validation_copy['reviews_per_month'].fillna(0)"
   ]
  },
  {
   "cell_type": "code",
   "execution_count": 17,
   "metadata": {},
   "outputs": [
    {
     "name": "stdout",
     "output_type": "stream",
     "text": [
      "RMSE train 0.64\n",
      "RMSE validation 0.65\n"
     ]
    }
   ],
   "source": [
    "X_train = prepare_X(df_train_copy, base)\n",
    "w_0, w = train_linear_regression_reg(X_train, y_train)\n",
    "\n",
    "y_pred = w_0 + X_train.dot(w)\n",
    "print('RMSE train', round(rmse(y_train, y_pred), 2))\n",
    "\n",
    "X_validation = prepare_X(df_validation_copy, base)\n",
    "y_pred = w_0 + X_validation.dot(w)\n",
    "print('RMSE validation', round(rmse(y_validation, y_pred), 2))"
   ]
  },
  {
   "cell_type": "markdown",
   "metadata": {},
   "source": [
    "### Using mean fill for reviews per month"
   ]
  },
  {
   "cell_type": "code",
   "execution_count": 18,
   "metadata": {},
   "outputs": [
    {
     "data": {
      "text/plain": [
       "1.3685492094777056"
      ]
     },
     "execution_count": 18,
     "metadata": {},
     "output_type": "execute_result"
    }
   ],
   "source": [
    "df_train_copy = df_train.copy()\n",
    "df_validation_copy = df_validation.copy()\n",
    "\n",
    "mean_reviews_pm = df_train_copy['reviews_per_month'].mean()\n",
    "mean_reviews_pm"
   ]
  },
  {
   "cell_type": "code",
   "execution_count": 19,
   "metadata": {},
   "outputs": [],
   "source": [
    "df_train_copy['reviews_per_month'] = df_train_copy['reviews_per_month'].fillna(mean_reviews_pm)\n",
    "df_validation_copy['reviews_per_month'] = df_validation_copy['reviews_per_month'].fillna(mean_reviews_pm)"
   ]
  },
  {
   "cell_type": "code",
   "execution_count": 20,
   "metadata": {},
   "outputs": [
    {
     "name": "stdout",
     "output_type": "stream",
     "text": [
      "RMSE train 0.64\n",
      "RMSE validation 0.65\n"
     ]
    }
   ],
   "source": [
    "X_train = prepare_X(df_train_copy, base)\n",
    "w_0, w = train_linear_regression_reg(X_train, y_train)\n",
    "\n",
    "y_pred = w_0 + X_train.dot(w)\n",
    "print('RMSE train', round(rmse(y_train, y_pred), 2))\n",
    "\n",
    "X_validation = prepare_X(df_validation_copy, base)\n",
    "y_pred = w_0 + X_validation.dot(w)\n",
    "print('RMSE validation', round(rmse(y_validation, y_pred), 2))"
   ]
  },
  {
   "cell_type": "markdown",
   "metadata": {},
   "source": [
    "# Question 4"
   ]
  },
  {
   "cell_type": "code",
   "execution_count": 21,
   "metadata": {},
   "outputs": [],
   "source": [
    "df_train_copy = df_train.copy()\n",
    "df_validation_copy = df_validation.copy()\n",
    "\n",
    "df_train_copy['reviews_per_month'] = df_train_copy['reviews_per_month'].fillna(0)\n",
    "df_validation_copy['reviews_per_month'] = df_validation_copy['reviews_per_month'].fillna(0)"
   ]
  },
  {
   "cell_type": "code",
   "execution_count": 22,
   "metadata": {},
   "outputs": [
    {
     "name": "stdout",
     "output_type": "stream",
     "text": [
      "r = 0\n",
      "RMSE train 0.64\n",
      "RMSE validation 0.65\n",
      "\n",
      "r = 1e-06\n",
      "RMSE train 0.64\n",
      "RMSE validation 0.65\n",
      "\n",
      "r = 0.0001\n",
      "RMSE train 0.64\n",
      "RMSE validation 0.65\n",
      "\n",
      "r = 0.001\n",
      "RMSE train 0.64\n",
      "RMSE validation 0.65\n",
      "\n",
      "r = 0.01\n",
      "RMSE train 0.65\n",
      "RMSE validation 0.67\n",
      "\n",
      "r = 0.1\n",
      "RMSE train 0.68\n",
      "RMSE validation 0.69\n",
      "\n",
      "r = 1\n",
      "RMSE train 0.68\n",
      "RMSE validation 0.69\n",
      "\n",
      "r = 5\n",
      "RMSE train 0.68\n",
      "RMSE validation 0.69\n",
      "\n",
      "r = 10\n",
      "RMSE train 0.68\n",
      "RMSE validation 0.69\n",
      "\n"
     ]
    }
   ],
   "source": [
    "X_train = prepare_X(df_train_copy, base)\n",
    "X_validation = prepare_X(df_validation_copy, base)\n",
    "\n",
    "for r in [0, 0.000001, 0.0001, 0.001, 0.01, 0.1, 1, 5, 10]:\n",
    "    print(\"r =\", r)\n",
    "    w_0, w = train_linear_regression_reg(X_train, y_train, r=r)\n",
    "    \n",
    "    y_pred = w_0 + X_train.dot(w)\n",
    "    print('RMSE train', round(rmse(y_train, y_pred), 2))\n",
    "\n",
    "    y_pred = w_0 + X_validation.dot(w)\n",
    "    print('RMSE validation', round(rmse(y_validation, y_pred), 2))\n",
    "    print()"
   ]
  },
  {
   "cell_type": "markdown",
   "metadata": {},
   "source": [
    "# Question 5"
   ]
  },
  {
   "cell_type": "code",
   "execution_count": 23,
   "metadata": {},
   "outputs": [
    {
     "name": "stdout",
     "output_type": "stream",
     "text": [
      "Seed: 0\n",
      "RMSE train 0.65\n",
      "RMSE validation 0.63\n",
      "\n",
      "Seed: 1\n",
      "RMSE train 0.64\n",
      "RMSE validation 0.65\n",
      "\n",
      "Seed: 2\n",
      "RMSE train 0.65\n",
      "RMSE validation 0.64\n",
      "\n",
      "Seed: 3\n",
      "RMSE train 0.65\n",
      "RMSE validation 0.64\n",
      "\n",
      "Seed: 4\n",
      "RMSE train 0.64\n",
      "RMSE validation 0.66\n",
      "\n",
      "Seed: 5\n",
      "RMSE train 0.65\n",
      "RMSE validation 0.64\n",
      "\n",
      "Seed: 6\n",
      "RMSE train 0.65\n",
      "RMSE validation 0.65\n",
      "\n",
      "Seed: 7\n",
      "RMSE train 0.64\n",
      "RMSE validation 0.66\n",
      "\n",
      "Seed: 8\n",
      "RMSE train 0.65\n",
      "RMSE validation 0.64\n",
      "\n",
      "Seed: 9\n",
      "RMSE train 0.65\n",
      "RMSE validation 0.65\n",
      "\n"
     ]
    }
   ],
   "source": [
    "rmse_vals = []\n",
    "\n",
    "for s in [0, 1, 2, 3, 4, 5, 6, 7, 8, 9]:\n",
    "    np.random.seed(s)\n",
    "    print(\"Seed:\", s)\n",
    "    idx = np.arange(n)\n",
    "    np.random.shuffle(idx)\n",
    "\n",
    "    df_shuffled = df.iloc[idx]\n",
    "\n",
    "    df_train = df_shuffled.iloc[:n_train].copy()\n",
    "    df_test = df_shuffled.iloc[n_train:n_train+n_test].copy()\n",
    "    df_validation = df_shuffled.iloc[n_train+n_test:].copy()\n",
    "\n",
    "    y_train_orig = df_train.price.values\n",
    "    y_validation_orig = df_validation.price.values\n",
    "    y_test_orig = df_test.price.values\n",
    "\n",
    "    y_train = np.log1p(df_train.price.values)\n",
    "    y_validation = np.log1p(df_validation.price.values)\n",
    "    y_test = np.log1p(df_test.price.values)\n",
    "\n",
    "    del df_train['price']\n",
    "    del df_validation['price']\n",
    "    del df_test['price']\n",
    "\n",
    "    df_train['reviews_per_month'] = df_train['reviews_per_month'].fillna(0)\n",
    "    df_validation['reviews_per_month'] = df_validation['reviews_per_month'].fillna(0)\n",
    "\n",
    "    X_train = prepare_X(df_train, base)\n",
    "    w_0, w = train_linear_regression_reg(X_train, y_train)\n",
    "\n",
    "    y_pred = w_0 + X_train.dot(w)\n",
    "    print('RMSE train', round(rmse(y_train, y_pred), 2))\n",
    "\n",
    "    X_validation = prepare_X(df_validation, base)\n",
    "    y_pred = w_0 + X_validation.dot(w)\n",
    "    print('RMSE validation', round(rmse(y_validation, y_pred), 2))\n",
    "    rmse_vals.append(rmse(y_validation, y_pred))\n",
    "    print()"
   ]
  },
  {
   "cell_type": "code",
   "execution_count": 24,
   "metadata": {},
   "outputs": [
    {
     "data": {
      "text/plain": [
       "0.007"
      ]
     },
     "execution_count": 24,
     "metadata": {},
     "output_type": "execute_result"
    }
   ],
   "source": [
    "round(np.std(rmse_vals), 3)"
   ]
  },
  {
   "cell_type": "markdown",
   "metadata": {},
   "source": [
    "# Question 6"
   ]
  },
  {
   "cell_type": "code",
   "execution_count": 25,
   "metadata": {},
   "outputs": [
    {
     "name": "stdout",
     "output_type": "stream",
     "text": [
      "Seed: 9\n",
      "RMSE train 0.65\n",
      "RMSE test 0.64\n"
     ]
    }
   ],
   "source": [
    "np.random.seed(9)\n",
    "print(\"Seed:\", np.random.get_state()[1][0])\n",
    "idx = np.arange(n)\n",
    "np.random.shuffle(idx)\n",
    "\n",
    "df_shuffled = df.iloc[idx]\n",
    "\n",
    "df_train = df_shuffled.iloc[:n_train].copy()\n",
    "df_test = df_shuffled.iloc[n_train:n_train+n_test].copy()\n",
    "\n",
    "y_train_orig = df_train.price.values\n",
    "y_test_orig = df_test.price.values\n",
    "\n",
    "y_train = np.log1p(df_train.price.values)\n",
    "y_test = np.log1p(df_test.price.values)\n",
    "\n",
    "del df_train['price']\n",
    "del df_test['price']\n",
    "\n",
    "df_train['reviews_per_month'] = df_train['reviews_per_month'].fillna(0)\n",
    "df_test['reviews_per_month'] = df_test['reviews_per_month'].fillna(0)\n",
    "\n",
    "X_train = prepare_X(df_train, base)\n",
    "w_0, w = train_linear_regression_reg(X_train, y_train, r=0.001)\n",
    "\n",
    "y_pred = w_0 + X_train.dot(w)\n",
    "print('RMSE train', round(rmse(y_train, y_pred), 2))\n",
    "\n",
    "X_test = prepare_X(df_test, base)\n",
    "y_pred = w_0 + X_test.dot(w)\n",
    "print('RMSE test', round(rmse(y_test, y_pred), 2))"
   ]
  }
 ],
 "metadata": {
  "kernelspec": {
   "display_name": "Python 3",
   "language": "python",
   "name": "python3"
  },
  "language_info": {
   "codemirror_mode": {
    "name": "ipython",
    "version": 3
   },
   "file_extension": ".py",
   "mimetype": "text/x-python",
   "name": "python",
   "nbconvert_exporter": "python",
   "pygments_lexer": "ipython3",
   "version": "3.8.5"
  }
 },
 "nbformat": 4,
 "nbformat_minor": 4
}
